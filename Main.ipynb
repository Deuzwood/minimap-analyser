{
  "nbformat": 4,
  "nbformat_minor": 0,
  "metadata": {
    "accelerator": "GPU",
    "colab": {
      "name": "TrainYourOwnYOLO",
      "provenance": [],
      "collapsed_sections": []
    },
    "kernelspec": {
      "name": "python388jvsc74a57bd0f165e3ea5c1fbc7a5392493d927691a0b74b62f74356a1af84e9dc560dc7fe8f",
      "display_name": "Python 3.8.8 64-bit"
    },
    "language_info": {
      "codemirror_mode": {
        "name": "ipython",
        "version": 3
      },
      "file_extension": ".py",
      "mimetype": "text/x-python",
      "name": "python",
      "nbconvert_exporter": "python",
      "pygments_lexer": "ipython3",
      "version": "3.8.8"
    },
    "metadata": {
      "interpreter": {
        "hash": "31f2aee4e71d21fbe5cf8b01ff0e069b9275f58929596ceb00d14d90e3e16cd6"
      }
    }
  },
  "cells": [
    {
      "source": [
        "# Minimap Analyser\n",
        "\n",
        "Step to follow for data generation, model training and inference.\n",
        "If you are on Google Colab, you must run the next cell, otherwise you can go to part \"0\".\n"
      ],
      "cell_type": "markdown",
      "metadata": {}
    },
    {
      "cell_type": "code",
      "metadata": {
        "id": "qgcn8RFTNy2F",
        "outputId": "af2d2254-c9e3-4e16-cd5b-dde2923c93ef",
        "colab": {
          "base_uri": "https://localhost:8080/"
        }
      },
      "source": [
        "!git clone https://github.com/Deuzwood/minimap-analyser\n",
        "%cd minimap-analyser"
      ],
      "execution_count": null,
      "outputs": []
    },
    {
      "source": [
        "## 0. Download data and assets from League of Legends\n",
        "Carefully choose League Of Legends version.\n",
        "If you only want to do inference, you may consider using an older version (without gwen) like the `11.7.1`.\n",
        "The following commands will download the files from the Data Dragon API and generate the file used for fake minimap generation. \n"
      ],
      "cell_type": "markdown",
      "metadata": {}
    },
    {
      "cell_type": "code",
      "execution_count": null,
      "metadata": {
        "tags": [
          "outputPrepend"
        ]
      },
      "outputs": [],
      "source": [
        "!wget https://ddragon.leagueoflegends.com/cdn/dragontail-11.11.1.tgz\n",
        "!mkdir dragontail-11.11.1 res -p\n",
        "!tar zxvf dragontail-11.11.1.tgz -C dragontail-11.11.1/\n",
        "!rm dragontail-11.11.1.tgz"
      ]
    },
    {
      "source": [
        "## 1. Generate Data\n",
        "- Init.py script is used to generate champions tiles for minimap and data_classes file  (run it each time you download a new version from DataDragon)\n",
        "- ImageGenerator.py generate `-n` fake map and create data_train file (other params : --no_superposition --no_randomgen)"
      ],
      "cell_type": "markdown",
      "metadata": {}
    },
    {
      "cell_type": "code",
      "execution_count": null,
      "metadata": {},
      "outputs": [],
      "source": [
        "%mkdir -p Data/Source_Images/Training_Images\n",
        "%cd 1_Init\n",
        "!python Init.py\n",
        "!python ImageGenerator.py -n 2048"
      ]
    },
    {
      "cell_type": "markdown",
      "metadata": {
        "id": "fx_Y7JyITP8H"
      },
      "source": [
        "## 2. Train Your Own YOLO\n"
      ]
    },
    {
      "cell_type": "code",
      "metadata": {
        "id": "hG3rdjStP1EX",
        "outputId": "307e77b2-991d-40fb-c21a-6d779630977e",
        "colab": {
          "base_uri": "https://localhost:8080/"
        }
      },
      "source": [
        "%cd ../2_Training\n",
        "!python Download_and_Convert_YOLO_weights.py\n",
        "!python Train_YOLO.py"
      ],
      "execution_count": null,
      "outputs": []
    },
    {
      "cell_type": "markdown",
      "metadata": {
        "id": "DIKOP9JFYM8Z"
      },
      "source": [
        "## 3. Run Inference"
      ]
    },
    {
      "cell_type": "code",
      "metadata": {
        "id": "YT7m2lxkUFBS",
        "outputId": "f746ac58-48ea-46b9-dcc3-b7465d249e9c",
        "colab": {
          "base_uri": "https://localhost:8080/"
        }
      },
      "source": [
        "%cd ../3_Inference\n",
        "!python Detector.py"
      ],
      "execution_count": null,
      "outputs": []
    }
  ]
}